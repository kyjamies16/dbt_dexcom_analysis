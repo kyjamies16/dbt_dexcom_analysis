{
 "cells": [
  {
   "cell_type": "code",
   "execution_count": 3,
   "id": "0f8eba2f-7a6f-4b69-bf20-8e460f36d891",
   "metadata": {},
   "outputs": [
    {
     "name": "stderr",
     "output_type": "stream",
     "text": [
      "C:\\Users\\krjam\\dexcom\\.venv\\Lib\\site-packages\\tconnectsync\\__init__.py:6: UserWarning: pkg_resources is deprecated as an API. See https://setuptools.pypa.io/en/latest/pkg_resources.html. The pkg_resources package is slated for removal as early as 2025-11-30. Refrain from using this package or pin to Setuptools<81.\n",
      "  import pkg_resources\n"
     ]
    },
    {
     "ename": "ModuleNotFoundError",
     "evalue": "No module named 'tconnectsync.client'",
     "output_type": "error",
     "traceback": [
      "\u001b[31m---------------------------------------------------------------------------\u001b[39m",
      "\u001b[31mModuleNotFoundError\u001b[39m                       Traceback (most recent call last)",
      "\u001b[36mCell\u001b[39m\u001b[36m \u001b[39m\u001b[32mIn[3]\u001b[39m\u001b[32m, line 4\u001b[39m\n\u001b[32m      2\u001b[39m \u001b[38;5;28;01mimport\u001b[39;00m\u001b[38;5;250m \u001b[39m\u001b[34;01msqlite3\u001b[39;00m\n\u001b[32m      3\u001b[39m \u001b[38;5;28;01mimport\u001b[39;00m\u001b[38;5;250m \u001b[39m\u001b[34;01mpandas\u001b[39;00m\u001b[38;5;250m \u001b[39m\u001b[38;5;28;01mas\u001b[39;00m\u001b[38;5;250m \u001b[39m\u001b[34;01mpd\u001b[39;00m\n\u001b[32m----> \u001b[39m\u001b[32m4\u001b[39m \u001b[38;5;28;01mfrom\u001b[39;00m\u001b[38;5;250m \u001b[39m\u001b[34;01mtconnectsync\u001b[39;00m\u001b[34;01m.\u001b[39;00m\u001b[34;01mclient\u001b[39;00m\u001b[38;5;250m \u001b[39m\u001b[38;5;28;01mimport\u001b[39;00m TConnectClient\n\u001b[32m      5\u001b[39m \u001b[38;5;28;01mfrom\u001b[39;00m\u001b[38;5;250m \u001b[39m\u001b[34;01mtconnectsync\u001b[39;00m\u001b[34;01m.\u001b[39;00m\u001b[34;01msync\u001b[39;00m\u001b[38;5;250m \u001b[39m\u001b[38;5;28;01mimport\u001b[39;00m TConnectSyncClient\n",
      "\u001b[31mModuleNotFoundError\u001b[39m: No module named 'tconnectsync.client'"
     ]
    }
   ],
   "source": [
    "import os\n",
    "import sqlite3\n",
    "import pandas as pd\n",
    "from tconnectsync.client import TConnectClient\n",
    "from tconnectsync.sync import TConnectSyncClient"
   ]
  },
  {
   "cell_type": "code",
   "execution_count": 4,
   "id": "1e1e0645-fce4-4b00-affd-3bd3d03791ae",
   "metadata": {},
   "outputs": [],
   "source": [
    "TC_USERNAME='krjamies@gmail.com'\n",
    "TC_PASSWORD='Krjamies16!'"
   ]
  },
  {
   "cell_type": "code",
   "execution_count": null,
   "id": "2cbea05d-9d3d-4a23-a6a4-9ec4208091ab",
   "metadata": {},
   "outputs": [],
   "source": [
    "client = TConnectClient(TC_USERNAME, password)\n"
   ]
  }
 ],
 "metadata": {
  "kernelspec": {
   "display_name": "Python (dexcom-env)",
   "language": "python",
   "name": "dexcom-env"
  },
  "language_info": {
   "codemirror_mode": {
    "name": "ipython",
    "version": 3
   },
   "file_extension": ".py",
   "mimetype": "text/x-python",
   "name": "python",
   "nbconvert_exporter": "python",
   "pygments_lexer": "ipython3",
   "version": "3.11.0"
  }
 },
 "nbformat": 4,
 "nbformat_minor": 5
}
