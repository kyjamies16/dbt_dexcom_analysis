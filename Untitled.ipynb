{
 "cells": [
  {
   "cell_type": "code",
   "execution_count": 1,
   "id": "ceb5e353-6f0a-4a13-993f-c503bd46eb4f",
   "metadata": {},
   "outputs": [],
   "source": [
    "import duckdb\n",
    "import pandas as pd"
   ]
  },
  {
   "cell_type": "code",
   "execution_count": 2,
   "id": "7061f77e-6847-482f-9b1f-3c770002a47e",
   "metadata": {},
   "outputs": [],
   "source": [
    "con_new = duckdb.connect(\"C:/Users/krjam/dexcom/dbt_duckdb_dev.db\")\n",
    "new_df = con_new.execute(\"SELECT * FROM main.stg_pydex_readings\").fetchdf()\n",
    "con_new.close()"
   ]
  },
  {
   "cell_type": "code",
   "execution_count": 3,
   "id": "ade20cb8-bb26-4418-bb04-229d3e7d844c",
   "metadata": {},
   "outputs": [],
   "source": [
    "# Connect to the main DB (with dbt models and old data)\n",
    "con_main = duckdb.connect(\"C:/Users/krjam/dexcom/dexcom_glucose_analytics/dbt_duckdb_dev.db\")"
   ]
  },
  {
   "cell_type": "code",
   "execution_count": 4,
   "id": "307df600-bd8d-4e04-95a0-5652f288a624",
   "metadata": {},
   "outputs": [
    {
     "data": {
      "text/plain": [
       "<duckdb.duckdb.DuckDBPyConnection at 0x131ff66dc30>"
      ]
     },
     "execution_count": 4,
     "metadata": {},
     "output_type": "execute_result"
    }
   ],
   "source": [
    "# Create a temporary table and insert filtered rows\n",
    "con_main.execute(\"CREATE OR REPLACE TEMP TABLE new_data AS SELECT * FROM new_df\")"
   ]
  },
  {
   "cell_type": "code",
   "execution_count": 5,
   "id": "e653a043-5ec0-4b39-b239-784047999f11",
   "metadata": {},
   "outputs": [
    {
     "data": {
      "text/plain": [
       "<duckdb.duckdb.DuckDBPyConnection at 0x131ff66dc30>"
      ]
     },
     "execution_count": 5,
     "metadata": {},
     "output_type": "execute_result"
    }
   ],
   "source": [
    "con_main.register(\"new_df\", new_df)\n"
   ]
  },
  {
   "cell_type": "code",
   "execution_count": 8,
   "id": "bad19864-0062-471a-b5a1-b03a76e3ad64",
   "metadata": {},
   "outputs": [
    {
     "data": {
      "text/plain": [
       "<duckdb.duckdb.DuckDBPyConnection at 0x131ff66dc30>"
      ]
     },
     "execution_count": 8,
     "metadata": {},
     "output_type": "execute_result"
    }
   ],
   "source": [
    "con_main.execute(\"\"\"\n",
    "INSERT INTO main.stg_pydex_readings\n",
    "SELECT * FROM new_df\n",
    "WHERE reading_ts NOT IN (\n",
    "  SELECT reading_ts FROM main.stg_pydex_readings\n",
    ")\n",
    "\"\"\")"
   ]
  },
  {
   "cell_type": "code",
   "execution_count": 9,
   "id": "2031d4af-a9e6-4d4a-9d40-7fab39a1acdc",
   "metadata": {},
   "outputs": [],
   "source": [
    "con_main.close()\n"
   ]
  },
  {
   "cell_type": "code",
   "execution_count": null,
   "id": "2e1cc7d5-54e7-4c19-a139-cf967e8f5719",
   "metadata": {},
   "outputs": [],
   "source": []
  }
 ],
 "metadata": {
  "kernelspec": {
   "display_name": "Python 3 (ipykernel)",
   "language": "python",
   "name": "python3"
  },
  "language_info": {
   "codemirror_mode": {
    "name": "ipython",
    "version": 3
   },
   "file_extension": ".py",
   "mimetype": "text/x-python",
   "name": "python",
   "nbconvert_exporter": "python",
   "pygments_lexer": "ipython3",
   "version": "3.11.0"
  }
 },
 "nbformat": 4,
 "nbformat_minor": 5
}
