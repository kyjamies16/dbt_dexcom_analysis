{
 "cells": [
  {
   "cell_type": "code",
   "execution_count": 1,
   "id": "dadd0419-c89f-4679-ab8f-68210cd5e5b6",
   "metadata": {},
   "outputs": [
    {
     "name": "stdout",
     "output_type": "stream",
     "text": [
      "✅ All modules loaded\n",
      "DATABASE_PATH = C:/Users/krjam/dexcom/dbt_duckdb.db\n"
     ]
    }
   ],
   "source": [
    "import os\n",
    "import duckdb\n",
    "import pandas as pd\n",
    "from pydexcom import Dexcom\n",
    "from dotenv import load_dotenv\n",
    "from datetime import datetime, timedelta\n",
    "\n",
    "load_dotenv()\n",
    "\n",
    "print(\"✅ All modules loaded\")\n",
    "print(\"DATABASE_PATH =\", os.getenv(\"DATABASE_PATH\"))"
   ]
  },
  {
   "cell_type": "code",
   "execution_count": 2,
   "id": "70a82e1f-d080-4780-9354-5d6c5d3ec857",
   "metadata": {},
   "outputs": [
    {
     "name": "stdout",
     "output_type": "stream",
     "text": [
      "DATABASE_PATH: C:/Users/krjam/dexcom/dbt_duckdb.db\n",
      "USERNAME: krjamies@gmail.com\n"
     ]
    }
   ],
   "source": [
    "load_dotenv()\n",
    "DATABASE_PATH = os.getenv(\"DATABASE_PATH\")\n",
    "USERNAME = os.getenv(\"DEXCOM_USERNAME\")\n",
    "PASSWORD = os.getenv(\"DEXCOM_PASSWORD\")\n",
    "\n",
    "print(f\"DATABASE_PATH: {DATABASE_PATH}\")\n",
    "print(f\"USERNAME: {USERNAME}\")"
   ]
  },
  {
   "cell_type": "code",
   "execution_count": 3,
   "id": "4309dbec-259e-4b55-ad52-72a062279d1e",
   "metadata": {},
   "outputs": [],
   "source": [
    "dexcom = Dexcom(username=USERNAME, password=PASSWORD)"
   ]
  },
  {
   "cell_type": "code",
   "execution_count": 8,
   "id": "a758812b-fec9-4182-b94e-d987d3b8dbe7",
   "metadata": {},
   "outputs": [
    {
     "name": "stdout",
     "output_type": "stream",
     "text": [
      "Fetched 287\n"
     ]
    }
   ],
   "source": [
    "readings = dexcom.get_glucose_readings(1440) \n",
    "\n",
    "print(f\"Fetched {len(readings)}\")\n"
   ]
  },
  {
   "cell_type": "code",
   "execution_count": null,
   "id": "70586aa9-58e1-4d85-a0ba-aaec99b9ac10",
   "metadata": {},
   "outputs": [],
   "source": []
  }
 ],
 "metadata": {
  "kernelspec": {
   "display_name": "Python (dexcom-env)",
   "language": "python",
   "name": "dexcom-env"
  },
  "language_info": {
   "codemirror_mode": {
    "name": "ipython",
    "version": 3
   },
   "file_extension": ".py",
   "mimetype": "text/x-python",
   "name": "python",
   "nbconvert_exporter": "python",
   "pygments_lexer": "ipython3",
   "version": "3.12.4"
  }
 },
 "nbformat": 4,
 "nbformat_minor": 5
}
